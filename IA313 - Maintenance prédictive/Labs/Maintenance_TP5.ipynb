{
  "cells": [
    {
      "cell_type": "markdown",
      "metadata": {
        "id": "6Dlzw5ZhCsOE"
      },
      "source": [
        "# AMDEC\n",
        "\n",
        "On suppose qu'on étudie un bras robotique. Le système est constitué de trois moteurs électriques et trois capteurs de position. Le moteur 0 assure le déplacement sur la chaîne de production, les moteurs 1 et 2 sont redondants (ici on veut dire par redondant qu'ils ont la même fonction. 2 hypothèses sont possibles : un seul moteur et le système est en panne, ou au contraire, un moteur sain suffit. Dans la suite, on a supposé un moteur en panne = système en panne) et amènent l'outil en position. Chaque capteur est lié à un moteur pour le contrôle-commande.\n",
        "\n",
        "On fait l'hypothèse que les moteurs peuvent subir les pannes suivantes :\n",
        "- problème de rotor\n",
        "- problème de stator\n",
        "\n",
        "De même, les capteurs de position peuvent subir les pannes suivantes :\n",
        "- détachement du support\n",
        "- court-circuit\n",
        "\n",
        "1.1 Pour chaque équipement, faite la liste des fonctions et modes de défaillance, puis les effets.\n",
        "\n"
      ]
    },
    {
      "cell_type": "code",
      "execution_count": 1,
      "metadata": {
        "colab": {
          "base_uri": "https://localhost:8080/"
        },
        "id": "SMcK926MGvp6",
        "outputId": "67c01110-308a-413c-a3cf-397472ba5707"
      },
      "outputs": [
        {
          "output_type": "stream",
          "name": "stdout",
          "text": [
            "   Equipement            Fonction Mode de défaillance      Effets    F    D  \\\n",
            "0    moteur 0  motricité latérale               rotor  Système HS  NaN  NaN   \n",
            "1    moteur 0  motricité latérale              stator  Système HS  NaN  NaN   \n",
            "2    moteur 1     motricité outil               rotor  Système HS  NaN  NaN   \n",
            "3    moteur 1     motricité outil              stator  Système HS  NaN  NaN   \n",
            "4    moteur 2     motricité outil               rotor  Système HS  NaN  NaN   \n",
            "5    moteur 2     motricité outil              stator  Système HS  NaN  NaN   \n",
            "6    capteur0          senseur M0         détachement  Système HS  NaN  NaN   \n",
            "7    capteur0          senseur M0       court-circuit  Système HS  NaN  NaN   \n",
            "8    capteur1          senseur M1         détachement  Système HS  NaN  NaN   \n",
            "9    capteur1          senseur M1       court-circuit  Système HS  NaN  NaN   \n",
            "10   capteur2          senseur M2         détachement  Système HS  NaN  NaN   \n",
            "11   capteur2          senseur M2       court-circuit  Système HS  NaN  NaN   \n",
            "\n",
            "      G    C  \n",
            "0   NaN  NaN  \n",
            "1   NaN  NaN  \n",
            "2   NaN  NaN  \n",
            "3   NaN  NaN  \n",
            "4   NaN  NaN  \n",
            "5   NaN  NaN  \n",
            "6   NaN  NaN  \n",
            "7   NaN  NaN  \n",
            "8   NaN  NaN  \n",
            "9   NaN  NaN  \n",
            "10  NaN  NaN  \n",
            "11  NaN  NaN  \n"
          ]
        }
      ],
      "source": [
        "import pandas as pd\n",
        "AMDEC = pd.DataFrame(data = [], columns=['Equipement', 'Fonction', 'Mode de défaillance', 'Effets', 'F', 'D', 'G', 'C'])\n",
        "# Réponse\n",
        "AMDEC['Equipement'] = ['moteur 0', 'moteur 0', 'moteur 1', 'moteur 1', 'moteur 2', 'moteur 2', 'capteur0', 'capteur0', 'capteur1', 'capteur1', 'capteur2', 'capteur2']\n",
        "AMDEC['Fonction'] = ['motricité latérale', 'motricité latérale', 'motricité outil','motricité outil', 'motricité outil', 'motricité outil', 'senseur M0',  'senseur M0', 'senseur M1', 'senseur M1', 'senseur M2', 'senseur M2']\n",
        "AMDEC['Mode de défaillance'] = ['rotor', 'stator', 'rotor', 'stator', 'rotor', 'stator', 'détachement', 'court-circuit', 'détachement', 'court-circuit', 'détachement', 'court-circuit']\n",
        "AMDEC['Effets'] = ['Système HS', 'Système HS','Système HS','Système HS','Système HS','Système HS', 'Système HS', 'Système HS','Système HS','Système HS','Système HS','Système HS']\n",
        "print(AMDEC)"
      ]
    },
    {
      "cell_type": "markdown",
      "metadata": {
        "id": "xZ2yG6caGu0F"
      },
      "source": [
        "\n",
        "## Fréquence\n",
        "Vous récupérez les données suivantes, extraites des logs de l'année dernière :\n",
        "- l'équipement a fonctionné 1714h\n",
        "- le moteur 0 a fonctionné 1417h\n",
        "- les moteurs 1 et 2 sont identiques et ont fonctionné 1518h\n",
        "- 28 fois, le moteur 0 a eu un problème de rotor\n",
        "- 31 fois, le moteur 0 a eu un problème de stator\n",
        "- 14 fois, le moteur 1 a eu un problème de stator\n",
        "- 17 fois, le moteur 1 a eu un problème de rotor\n",
        "- 4 fois, le moteur 2 a eu un problème de rotor\n",
        "- 9 fois, le moteur 2 a eu un problème de stator\n",
        "- 12 fois, il y a eu un court circuit, mais impossible de savoir la source\n",
        "- par 3 fois des capteurs se sont détachés\n",
        "\n",
        "1.2 remplissez la colonne 'F', avec comme grille repère :\n",
        "*   1 : < 1/1000 h\n",
        "*   2 : < 1/100 h\n",
        "*   3 : < 1/10 h\n",
        "*   4 : < 1/1 h"
      ]
    },
    {
      "cell_type": "code",
      "execution_count": 2,
      "metadata": {
        "colab": {
          "base_uri": "https://localhost:8080/"
        },
        "id": "lfVjWHa6Hm34",
        "outputId": "c4b93d98-4fc8-4544-fe06-7f5eaa7a534b"
      },
      "outputs": [
        {
          "output_type": "stream",
          "name": "stdout",
          "text": [
            "[0.01976006 0.02187721 0.00757576 0.006917   0.00233372 0.00058343]\n",
            "[0.001 0.01  0.1   1.   ]\n",
            "   Equipement            Fonction Mode de défaillance      Effets  F    D  \\\n",
            "0    moteur 0  motricité latérale               rotor  Système HS  3  NaN   \n",
            "1    moteur 0  motricité latérale              stator  Système HS  3  NaN   \n",
            "2    moteur 1     motricité outil               rotor  Système HS  2  NaN   \n",
            "3    moteur 1     motricité outil              stator  Système HS  2  NaN   \n",
            "4    moteur 2     motricité outil               rotor  Système HS  2  NaN   \n",
            "5    moteur 2     motricité outil              stator  Système HS  2  NaN   \n",
            "6    capteur0          senseur M0         détachement  Système HS  2  NaN   \n",
            "7    capteur0          senseur M0       court-circuit  Système HS  1  NaN   \n",
            "8    capteur1          senseur M1         détachement  Système HS  2  NaN   \n",
            "9    capteur1          senseur M1       court-circuit  Système HS  1  NaN   \n",
            "10   capteur2          senseur M2         détachement  Système HS  2  NaN   \n",
            "11   capteur2          senseur M2       court-circuit  Système HS  1  NaN   \n",
            "\n",
            "      G    C  \n",
            "0   NaN  NaN  \n",
            "1   NaN  NaN  \n",
            "2   NaN  NaN  \n",
            "3   NaN  NaN  \n",
            "4   NaN  NaN  \n",
            "5   NaN  NaN  \n",
            "6   NaN  NaN  \n",
            "7   NaN  NaN  \n",
            "8   NaN  NaN  \n",
            "9   NaN  NaN  \n",
            "10  NaN  NaN  \n",
            "11  NaN  NaN  \n"
          ]
        }
      ],
      "source": [
        "# réponse # M0R, M0S, M12R, M12S, s012c, s012d\n",
        "import numpy as np\n",
        "freq = np.array([28/1417,\n",
        "                 31/1417,\n",
        "                 (14+9)/(1518*2),\n",
        "                 (17+4)/(1518*2),\n",
        "                 12/(1714*3),\n",
        "                 3/(1714*3)])\n",
        "print(freq)\n",
        "\n",
        "levels = np.array([1/1000, 1/100, 1/10, 1/1])\n",
        "print(levels)\n",
        "\n",
        "def cotation(fq, levels):\n",
        "    return np.min(np.argwhere(fq < levels)) + 1\n",
        "\n",
        "list_cotation = []\n",
        "for r in [0, 1, 2, 3, 2, 3, 4, 5, 4, 5, 4, 5]:\n",
        "    list_cotation.append(cotation(freq[r], levels))\n",
        "\n",
        "AMDEC['F'] = list_cotation\n",
        "print(AMDEC)"
      ]
    },
    {
      "cell_type": "markdown",
      "metadata": {
        "id": "SyOm_3DnHnoj"
      },
      "source": [
        "## Détection\n",
        "\n",
        "Les capteurs de position permettent de détecter un mauvais positionnement des moteurs avec une probabilité de 45% pour le moteur 0 et 55% pour les moteurs 1 & 2.\n",
        "\n",
        "1.3 Remplissez la colonne D, avec comme grille repère :\n",
        "*   1 : 90%\n",
        "*   2 : 50%\n",
        "*   3 : 10%\n",
        "*   4 : 0%"
      ]
    },
    {
      "cell_type": "code",
      "execution_count": 3,
      "metadata": {
        "id": "tf43KqwCHnX8"
      },
      "outputs": [],
      "source": [
        "AMDEC['D'] = [3, 3, 2, 2, 2, 2, 4, 4, 4, 4, 4, 4]"
      ]
    },
    {
      "cell_type": "markdown",
      "metadata": {
        "id": "dyl0m0InIMUs"
      },
      "source": [
        "## Gravité\n",
        "\n",
        "Deux cas sont envisagés : robot en environnement contrôlé vs robot en environnement ouvert.\n",
        "\n",
        "1.4 Remplissez la colonne G, avec comme grille repère suivante :\n",
        "*   1 : production nominale\n",
        "*   2 : production ralentie\n",
        "*   3 : production arrêtée\n",
        "*   4 : équipement détruit / blessés humains"
      ]
    },
    {
      "cell_type": "code",
      "execution_count": 4,
      "metadata": {
        "id": "41aODPjpIq34"
      },
      "outputs": [],
      "source": [
        "# environnement contrôlé\n",
        "AMDEC['G'] = [3, 3, 3, 3, 3, 3, 3, 3, 3, 3, 3, 3]\n",
        "# environnement ouvert\n",
        "# AMDEC['G'] = [4, 4, 4, 4, 4, 4, 4, 4, 4, 4, 4, 4]"
      ]
    },
    {
      "cell_type": "markdown",
      "metadata": {
        "id": "YOZrOAYTxwku"
      },
      "source": [
        "1.5 Calculez la colonne C."
      ]
    },
    {
      "cell_type": "code",
      "execution_count": 5,
      "metadata": {
        "colab": {
          "base_uri": "https://localhost:8080/"
        },
        "id": "E6CpZwt_xzLZ",
        "outputId": "53cd70d6-d163-45a6-8aaa-a5f9fda26757"
      },
      "outputs": [
        {
          "output_type": "stream",
          "name": "stdout",
          "text": [
            "0     27\n",
            "1     27\n",
            "2     12\n",
            "3     12\n",
            "4     12\n",
            "5     12\n",
            "6     24\n",
            "7     12\n",
            "8     24\n",
            "9     12\n",
            "10    24\n",
            "11    12\n",
            "Name: C, dtype: int64\n"
          ]
        }
      ],
      "source": [
        "AMDEC['C'] =  AMDEC['F'] * AMDEC['G'] *AMDEC['D']\n",
        "print(AMDEC['C'])"
      ]
    },
    {
      "cell_type": "markdown",
      "metadata": {
        "id": "xSU95Nf7Ir5Z"
      },
      "source": [
        "1.6 Quels problèmes détectez-vous ? Quelles solutions ?"
      ]
    },
    {
      "cell_type": "markdown",
      "metadata": {
        "id": "p4NlyMgqI0gE"
      },
      "source": [
        "Le moteur 0 est critique. Solution : améliorer la détection / changer de moteur.\n",
        "\n",
        "Les moteurs 1 & 2 sont moins critiques, on peut laisser ou changer en fonction de la finalité du robot."
      ]
    },
    {
      "cell_type": "markdown",
      "metadata": {
        "id": "HqULKJPtI1QT"
      },
      "source": [
        "## Arbres de défaillances\n",
        "\n",
        "\n",
        "2.1 Faites l'arbre de défaillance du système, en ignorant les capteurs."
      ]
    },
    {
      "cell_type": "code",
      "execution_count": 6,
      "metadata": {
        "id": "k2WGPNc43UKk"
      },
      "outputs": [],
      "source": [
        "# Réponse\n",
        "# Une porte OU entre M0 et le système (M1, M2), une porte OU entre M1 et M2.\n",
        "# Si on considérait que les moteurs M1 et M2 se complètent, on aurait alors une porte ET"
      ]
    },
    {
      "cell_type": "markdown",
      "metadata": {
        "id": "qfLzOsnJjaOQ"
      },
      "source": [
        "Les caractéristiques des produits sur le marché sont données dans le dataFrame ci-dessous.\n"
      ]
    },
    {
      "cell_type": "code",
      "execution_count": null,
      "metadata": {
        "id": "22ApFwG9jauZ"
      },
      "outputs": [],
      "source": [
        "#from google.colab import drive\n",
        "#drive.mount('/content/drive')\n",
        "#from google.colab import files\n",
        "#files.upload() # Sélectionnez TP5_Catalogue.csv"
      ]
    },
    {
      "cell_type": "code",
      "execution_count": null,
      "metadata": {
        "id": "gI4mp3D2n0QT"
      },
      "outputs": [],
      "source": []
    },
    {
      "cell_type": "code",
      "execution_count": 7,
      "metadata": {
        "colab": {
          "base_uri": "https://localhost:8080/"
        },
        "id": "wDrtFwZ3nYGe",
        "outputId": "5fe8e510-0d35-430d-b242-a80b9829b14d"
      },
      "outputs": [
        {
          "output_type": "stream",
          "name": "stdout",
          "text": [
            "  Equipement  Puissance  Prix  Fiabilite\n",
            "0   Moteur 1       0.18    92       0.78\n",
            "1   Moteur 2       0.25    97       0.82\n",
            "2   Moteur 3       0.37   103       0.98\n",
            "3   Moteur 4       0.37   107       0.99\n",
            "4   Moteur 5       0.55   115       0.97\n"
          ]
        }
      ],
      "source": [
        "import pandas as pd\n",
        "catalogue = pd.read_csv('TP5_Catalogue.csv', sep=';')\n",
        "print(catalogue.head())"
      ]
    },
    {
      "cell_type": "markdown",
      "metadata": {
        "id": "tE6MwXY9jbPf"
      },
      "source": [
        "2.2 Sachant que vous avez besoin d'une puissance minimale de 0.5 pour le moteur 0 et une puissance minimale de 0.2 pour les moteurs du bras, quel choix prenez vous, sachant que vous voulez le prix minimum pour la plus grande fiabilité de votre système complet ?"
      ]
    },
    {
      "cell_type": "code",
      "execution_count": 11,
      "metadata": {
        "colab": {
          "base_uri": "https://localhost:8080/",
          "height": 642
        },
        "id": "nqVHNh-9obZk",
        "outputId": "31d1ef6e-c170-4a70-dc4b-03d143ee3c7d"
      },
      "outputs": [
        {
          "output_type": "stream",
          "name": "stdout",
          "text": [
            "  Equipement  Puissance  Prix  Fiabilite    lambda\n",
            "4   Moteur 5       0.55   115       0.97  0.030459\n",
            "5   Moteur 6       0.60   172       0.99  0.010050\n",
            "6   Moteur 7       1.10   187       0.79  0.235722\n",
            "7   Moteur 8       1.50   223       0.88  0.127833\n",
            "8   Moteur 9       2.20   264       0.97  0.030459\n",
            "    Prix  Fiabilite                 Choix\n",
            "21   386   0.970592  [Moteur 6, Moteur 4]\n",
            "23   516   0.970592  [Moteur 6, Moteur 6]\n",
            "20   378   0.951567  [Moteur 6, Moteur 3]\n",
            "2    329   0.951372  [Moteur 5, Moteur 4]\n",
            "4    459   0.951372  [Moteur 5, Moteur 6]\n"
          ]
        },
        {
          "output_type": "display_data",
          "data": {
            "text/plain": [
              "<Figure size 640x480 with 1 Axes>"
            ],
            "image/png": "[encoded data removed]"
          },
          "metadata": {}
        }
      ],
      "source": [
        "import matplotlib.pyplot as plt\n",
        "# Réponse\n",
        "# Transformer la fiabilité en taux de défaillance\n",
        "catalogue['lambda'] = -np.log(catalogue['Fiabilite'])\n",
        "\n",
        "choiceM0 = catalogue.loc[catalogue['Puissance'] > 0.5]\n",
        "choiceM12 = catalogue.loc[catalogue['Puissance'] > 0.2]\n",
        "print(choiceM0.head())\n",
        "Compare = pd.DataFrame(data = [], columns=['Prix', 'Fiabilite', 'Choix'])\n",
        "\n",
        "\n",
        "listPrix = []\n",
        "listLambda = []\n",
        "listFiabilite = []\n",
        "listChoice = []\n",
        "for ind0, M0 in choiceM0.iterrows():\n",
        "    for ind12, M12 in choiceM12.iterrows():\n",
        "        listPrix.append(M0['Prix'] + 2 * M12['Prix'])\n",
        "        lambda_def = 1 - (1-(M0['lambda'])) *   (1 -  (1 - (1- M12['lambda'])**2))\n",
        "        listLambda.append(lambda_def)\n",
        "        listFiabilite.append(np.exp(-lambda_def))\n",
        "        listChoice.append([M0['Equipement'], M12['Equipement']])\n",
        "\n",
        "Compare['Prix'] = listPrix\n",
        "Compare['Fiabilite'] = listFiabilite\n",
        "Compare['Choix'] = listChoice\n",
        "\n",
        "plt.plot(Compare['Prix'], Compare['Fiabilite'], '.')\n",
        "\n",
        "print(Compare.sort_values(by=['Fiabilite', 'Prix'], ascending=[False, True]).head())\n"
      ]
    },
    {
      "cell_type": "markdown",
      "metadata": {
        "id": "iXeD54isp5r3"
      },
      "source": [
        "# Réseaux bayésiens\n",
        "\n"
      ]
    },
    {
      "cell_type": "code",
      "execution_count": null,
      "metadata": {
        "id": "g66RyYo1vFiN",
        "scrolled": true,
        "colab": {
          "base_uri": "https://localhost:8080/"
        },
        "outputId": "d7fef072-3d11-484c-8e77-aa4443dcc076"
      },
      "outputs": [
        {
          "output_type": "stream",
          "name": "stdout",
          "text": [
            "Collecting bnlearn==0.8.2\n",
            "  Downloading bnlearn-0.8.2-py3-none-any.whl (68 kB)\n",
            "\u001b[?25l     \u001b[90m━━━━━━━━━━━━━━━━━━━━━━━━━━━━━━━━━━━━━━━━\u001b[0m \u001b[32m0.0/68.5 kB\u001b[0m \u001b[31m?\u001b[0m eta \u001b[36m-:--:--\u001b[0m\r\u001b[2K     \u001b[91m━━━━━━━━━━━━━━━━━━━━━━━\u001b[0m\u001b[91m╸\u001b[0m\u001b[90m━━━━━━━━━━━━━━━━\u001b[0m \u001b[32m41.0/68.5 kB\u001b[0m \u001b[31m917.6 kB/s\u001b[0m eta \u001b[36m0:00:01\u001b[0m\r\u001b[2K     \u001b[90m━━━━━━━━━━━━━━━━━━━━━━━━━━━━━━━━━━━━━━━━\u001b[0m \u001b[32m68.5/68.5 kB\u001b[0m \u001b[31m1.1 MB/s\u001b[0m eta \u001b[36m0:00:00\u001b[0m\n",
            "\u001b[?25hRequirement already satisfied: pgmpy>=0.1.18 in /usr/local/lib/python3.10/dist-packages (from bnlearn==0.8.2) (0.1.24)\n",
            "Requirement already satisfied: networkx>=2.7.1 in /usr/local/lib/python3.10/dist-packages (from bnlearn==0.8.2) (3.2.1)\n",
            "Requirement already satisfied: matplotlib>=3.3.4 in /usr/local/lib/python3.10/dist-packages (from bnlearn==0.8.2) (3.7.1)\n",
            "Requirement already satisfied: numpy>=1.24.1 in /usr/local/lib/python3.10/dist-packages (from bnlearn==0.8.2) (1.26.4)\n",
            "Requirement already satisfied: pandas==1.5.3 in /usr/local/lib/python3.10/dist-packages (from bnlearn==0.8.2) (1.5.3)\n",
            "Requirement already satisfied: tqdm in /usr/local/lib/python3.10/dist-packages (from bnlearn==0.8.2) (4.66.1)\n",
            "Requirement already satisfied: ismember in /usr/local/lib/python3.10/dist-packages (from bnlearn==0.8.2) (1.0.2)\n",
            "Requirement already satisfied: scikit-learn in /usr/local/lib/python3.10/dist-packages (from bnlearn==0.8.2) (1.2.2)\n",
            "Requirement already satisfied: funcsigs in /usr/local/lib/python3.10/dist-packages (from bnlearn==0.8.2) (1.0.2)\n",
            "Requirement already satisfied: statsmodels in /usr/local/lib/python3.10/dist-packages (from bnlearn==0.8.2) (0.14.1)\n",
            "Requirement already satisfied: python-louvain in /usr/local/lib/python3.10/dist-packages (from bnlearn==0.8.2) (0.16)\n",
            "Requirement already satisfied: packaging in /usr/local/lib/python3.10/dist-packages (from bnlearn==0.8.2) (23.2)\n",
            "Requirement already satisfied: df2onehot in /usr/local/lib/python3.10/dist-packages (from bnlearn==0.8.2) (1.0.6)\n",
            "Requirement already satisfied: fsspec in /usr/local/lib/python3.10/dist-packages (from bnlearn==0.8.2) (2023.6.0)\n",
            "Requirement already satisfied: pypickle in /usr/local/lib/python3.10/dist-packages (from bnlearn==0.8.2) (1.1.0)\n",
            "Requirement already satisfied: tabulate in /usr/local/lib/python3.10/dist-packages (from bnlearn==0.8.2) (0.9.0)\n",
            "Requirement already satisfied: ipywidgets in /usr/local/lib/python3.10/dist-packages (from bnlearn==0.8.2) (7.7.1)\n",
            "Requirement already satisfied: datazets in /usr/local/lib/python3.10/dist-packages (from bnlearn==0.8.2) (0.1.9)\n",
            "Requirement already satisfied: python-dateutil>=2.8.1 in /usr/local/lib/python3.10/dist-packages (from pandas==1.5.3->bnlearn==0.8.2) (2.8.2)\n",
            "Requirement already satisfied: pytz>=2020.1 in /usr/local/lib/python3.10/dist-packages (from pandas==1.5.3->bnlearn==0.8.2) (2023.4)\n",
            "Requirement already satisfied: contourpy>=1.0.1 in /usr/local/lib/python3.10/dist-packages (from matplotlib>=3.3.4->bnlearn==0.8.2) (1.2.0)\n",
            "Requirement already satisfied: cycler>=0.10 in /usr/local/lib/python3.10/dist-packages (from matplotlib>=3.3.4->bnlearn==0.8.2) (0.12.1)\n",
            "Requirement already satisfied: fonttools>=4.22.0 in /usr/local/lib/python3.10/dist-packages (from matplotlib>=3.3.4->bnlearn==0.8.2) (4.47.2)\n",
            "Requirement already satisfied: kiwisolver>=1.0.1 in /usr/local/lib/python3.10/dist-packages (from matplotlib>=3.3.4->bnlearn==0.8.2) (1.4.5)\n",
            "Requirement already satisfied: pillow>=6.2.0 in /usr/local/lib/python3.10/dist-packages (from matplotlib>=3.3.4->bnlearn==0.8.2) (9.4.0)\n",
            "Requirement already satisfied: pyparsing>=2.3.1 in /usr/local/lib/python3.10/dist-packages (from matplotlib>=3.3.4->bnlearn==0.8.2) (3.1.1)\n",
            "Requirement already satisfied: scipy in /usr/local/lib/python3.10/dist-packages (from pgmpy>=0.1.18->bnlearn==0.8.2) (1.11.4)\n",
            "Requirement already satisfied: torch in /usr/local/lib/python3.10/dist-packages (from pgmpy>=0.1.18->bnlearn==0.8.2) (2.1.0+cu121)\n",
            "Requirement already satisfied: joblib in /usr/local/lib/python3.10/dist-packages (from pgmpy>=0.1.18->bnlearn==0.8.2) (1.3.2)\n",
            "Requirement already satisfied: opt-einsum in /usr/local/lib/python3.10/dist-packages (from pgmpy>=0.1.18->bnlearn==0.8.2) (3.3.0)\n",
            "Requirement already satisfied: requests in /usr/local/lib/python3.10/dist-packages (from datazets->bnlearn==0.8.2) (2.31.0)\n",
            "Requirement already satisfied: ipykernel>=4.5.1 in /usr/local/lib/python3.10/dist-packages (from ipywidgets->bnlearn==0.8.2) (5.5.6)\n",
            "Requirement already satisfied: ipython-genutils~=0.2.0 in /usr/local/lib/python3.10/dist-packages (from ipywidgets->bnlearn==0.8.2) (0.2.0)\n",
            "Requirement already satisfied: traitlets>=4.3.1 in /usr/local/lib/python3.10/dist-packages (from ipywidgets->bnlearn==0.8.2) (5.7.1)\n",
            "Requirement already satisfied: widgetsnbextension~=3.6.0 in /usr/local/lib/python3.10/dist-packages (from ipywidgets->bnlearn==0.8.2) (3.6.6)\n",
            "Requirement already satisfied: ipython>=4.0.0 in /usr/local/lib/python3.10/dist-packages (from ipywidgets->bnlearn==0.8.2) (7.34.0)\n",
            "Requirement already satisfied: jupyterlab-widgets>=1.0.0 in /usr/local/lib/python3.10/dist-packages (from ipywidgets->bnlearn==0.8.2) (3.0.9)\n",
            "Requirement already satisfied: threadpoolctl>=2.0.0 in /usr/local/lib/python3.10/dist-packages (from scikit-learn->bnlearn==0.8.2) (3.2.0)\n",
            "Requirement already satisfied: patsy>=0.5.4 in /usr/local/lib/python3.10/dist-packages (from statsmodels->bnlearn==0.8.2) (0.5.6)\n",
            "Requirement already satisfied: jupyter-client in /usr/local/lib/python3.10/dist-packages (from ipykernel>=4.5.1->ipywidgets->bnlearn==0.8.2) (6.1.12)\n",
            "Requirement already satisfied: tornado>=4.2 in /usr/local/lib/python3.10/dist-packages (from ipykernel>=4.5.1->ipywidgets->bnlearn==0.8.2) (6.3.2)\n",
            "Requirement already satisfied: setuptools>=18.5 in /usr/local/lib/python3.10/dist-packages (from ipython>=4.0.0->ipywidgets->bnlearn==0.8.2) (67.7.2)\n",
            "Requirement already satisfied: jedi>=0.16 in /usr/local/lib/python3.10/dist-packages (from ipython>=4.0.0->ipywidgets->bnlearn==0.8.2) (0.19.1)\n",
            "Requirement already satisfied: decorator in /usr/local/lib/python3.10/dist-packages (from ipython>=4.0.0->ipywidgets->bnlearn==0.8.2) (4.4.2)\n",
            "Requirement already satisfied: pickleshare in /usr/local/lib/python3.10/dist-packages (from ipython>=4.0.0->ipywidgets->bnlearn==0.8.2) (0.7.5)\n",
            "Requirement already satisfied: prompt-toolkit!=3.0.0,!=3.0.1,<3.1.0,>=2.0.0 in /usr/local/lib/python3.10/dist-packages (from ipython>=4.0.0->ipywidgets->bnlearn==0.8.2) (3.0.43)\n",
            "Requirement already satisfied: pygments in /usr/local/lib/python3.10/dist-packages (from ipython>=4.0.0->ipywidgets->bnlearn==0.8.2) (2.16.1)\n",
            "Requirement already satisfied: backcall in /usr/local/lib/python3.10/dist-packages (from ipython>=4.0.0->ipywidgets->bnlearn==0.8.2) (0.2.0)\n",
            "Requirement already satisfied: matplotlib-inline in /usr/local/lib/python3.10/dist-packages (from ipython>=4.0.0->ipywidgets->bnlearn==0.8.2) (0.1.6)\n",
            "Requirement already satisfied: pexpect>4.3 in /usr/local/lib/python3.10/dist-packages (from ipython>=4.0.0->ipywidgets->bnlearn==0.8.2) (4.9.0)\n",
            "Requirement already satisfied: six in /usr/local/lib/python3.10/dist-packages (from patsy>=0.5.4->statsmodels->bnlearn==0.8.2) (1.16.0)\n",
            "Requirement already satisfied: notebook>=4.4.1 in /usr/local/lib/python3.10/dist-packages (from widgetsnbextension~=3.6.0->ipywidgets->bnlearn==0.8.2) (6.5.5)\n",
            "Requirement already satisfied: charset-normalizer<4,>=2 in /usr/local/lib/python3.10/dist-packages (from requests->datazets->bnlearn==0.8.2) (3.3.2)\n",
            "Requirement already satisfied: idna<4,>=2.5 in /usr/local/lib/python3.10/dist-packages (from requests->datazets->bnlearn==0.8.2) (3.6)\n",
            "Requirement already satisfied: urllib3<3,>=1.21.1 in /usr/local/lib/python3.10/dist-packages (from requests->datazets->bnlearn==0.8.2) (2.0.7)\n",
            "Requirement already satisfied: certifi>=2017.4.17 in /usr/local/lib/python3.10/dist-packages (from requests->datazets->bnlearn==0.8.2) (2024.2.2)\n",
            "Requirement already satisfied: filelock in /usr/local/lib/python3.10/dist-packages (from torch->pgmpy>=0.1.18->bnlearn==0.8.2) (3.13.1)\n",
            "Requirement already satisfied: typing-extensions in /usr/local/lib/python3.10/dist-packages (from torch->pgmpy>=0.1.18->bnlearn==0.8.2) (4.9.0)\n",
            "Requirement already satisfied: sympy in /usr/local/lib/python3.10/dist-packages (from torch->pgmpy>=0.1.18->bnlearn==0.8.2) (1.12)\n",
            "Requirement already satisfied: jinja2 in /usr/local/lib/python3.10/dist-packages (from torch->pgmpy>=0.1.18->bnlearn==0.8.2) (3.1.3)\n",
            "Requirement already satisfied: triton==2.1.0 in /usr/local/lib/python3.10/dist-packages (from torch->pgmpy>=0.1.18->bnlearn==0.8.2) (2.1.0)\n",
            "Requirement already satisfied: parso<0.9.0,>=0.8.3 in /usr/local/lib/python3.10/dist-packages (from jedi>=0.16->ipython>=4.0.0->ipywidgets->bnlearn==0.8.2) (0.8.3)\n",
            "Requirement already satisfied: pyzmq<25,>=17 in /usr/local/lib/python3.10/dist-packages (from notebook>=4.4.1->widgetsnbextension~=3.6.0->ipywidgets->bnlearn==0.8.2) (23.2.1)\n",
            "Requirement already satisfied: argon2-cffi in /usr/local/lib/python3.10/dist-packages (from notebook>=4.4.1->widgetsnbextension~=3.6.0->ipywidgets->bnlearn==0.8.2) (23.1.0)\n",
            "Requirement already satisfied: jupyter-core>=4.6.1 in /usr/local/lib/python3.10/dist-packages (from notebook>=4.4.1->widgetsnbextension~=3.6.0->ipywidgets->bnlearn==0.8.2) (5.7.1)\n",
            "Requirement already satisfied: nbformat in /usr/local/lib/python3.10/dist-packages (from notebook>=4.4.1->widgetsnbextension~=3.6.0->ipywidgets->bnlearn==0.8.2) (5.9.2)\n",
            "Requirement already satisfied: nbconvert>=5 in /usr/local/lib/python3.10/dist-packages (from notebook>=4.4.1->widgetsnbextension~=3.6.0->ipywidgets->bnlearn==0.8.2) (6.5.4)\n",
            "Requirement already satisfied: nest-asyncio>=1.5 in /usr/local/lib/python3.10/dist-packages (from notebook>=4.4.1->widgetsnbextension~=3.6.0->ipywidgets->bnlearn==0.8.2) (1.6.0)\n",
            "Requirement already satisfied: Send2Trash>=1.8.0 in /usr/local/lib/python3.10/dist-packages (from notebook>=4.4.1->widgetsnbextension~=3.6.0->ipywidgets->bnlearn==0.8.2) (1.8.2)\n",
            "Requirement already satisfied: terminado>=0.8.3 in /usr/local/lib/python3.10/dist-packages (from notebook>=4.4.1->widgetsnbextension~=3.6.0->ipywidgets->bnlearn==0.8.2) (0.18.0)\n",
            "Requirement already satisfied: prometheus-client in /usr/local/lib/python3.10/dist-packages (from notebook>=4.4.1->widgetsnbextension~=3.6.0->ipywidgets->bnlearn==0.8.2) (0.19.0)\n",
            "Requirement already satisfied: nbclassic>=0.4.7 in /usr/local/lib/python3.10/dist-packages (from notebook>=4.4.1->widgetsnbextension~=3.6.0->ipywidgets->bnlearn==0.8.2) (1.0.0)\n",
            "Requirement already satisfied: ptyprocess>=0.5 in /usr/local/lib/python3.10/dist-packages (from pexpect>4.3->ipython>=4.0.0->ipywidgets->bnlearn==0.8.2) (0.7.0)\n",
            "Requirement already satisfied: wcwidth in /usr/local/lib/python3.10/dist-packages (from prompt-toolkit!=3.0.0,!=3.0.1,<3.1.0,>=2.0.0->ipython>=4.0.0->ipywidgets->bnlearn==0.8.2) (0.2.13)\n",
            "Requirement already satisfied: MarkupSafe>=2.0 in /usr/local/lib/python3.10/dist-packages (from jinja2->torch->pgmpy>=0.1.18->bnlearn==0.8.2) (2.1.5)\n",
            "Requirement already satisfied: mpmath>=0.19 in /usr/local/lib/python3.10/dist-packages (from sympy->torch->pgmpy>=0.1.18->bnlearn==0.8.2) (1.3.0)\n",
            "Requirement already satisfied: platformdirs>=2.5 in /usr/local/lib/python3.10/dist-packages (from jupyter-core>=4.6.1->notebook>=4.4.1->widgetsnbextension~=3.6.0->ipywidgets->bnlearn==0.8.2) (4.2.0)\n",
            "Requirement already satisfied: jupyter-server>=1.8 in /usr/local/lib/python3.10/dist-packages (from nbclassic>=0.4.7->notebook>=4.4.1->widgetsnbextension~=3.6.0->ipywidgets->bnlearn==0.8.2) (1.24.0)\n",
            "Requirement already satisfied: notebook-shim>=0.2.3 in /usr/local/lib/python3.10/dist-packages (from nbclassic>=0.4.7->notebook>=4.4.1->widgetsnbextension~=3.6.0->ipywidgets->bnlearn==0.8.2) (0.2.3)\n",
            "Requirement already satisfied: lxml in /usr/local/lib/python3.10/dist-packages (from nbconvert>=5->notebook>=4.4.1->widgetsnbextension~=3.6.0->ipywidgets->bnlearn==0.8.2) (4.9.4)\n",
            "Requirement already satisfied: beautifulsoup4 in /usr/local/lib/python3.10/dist-packages (from nbconvert>=5->notebook>=4.4.1->widgetsnbextension~=3.6.0->ipywidgets->bnlearn==0.8.2) (4.12.3)\n",
            "Requirement already satisfied: bleach in /usr/local/lib/python3.10/dist-packages (from nbconvert>=5->notebook>=4.4.1->widgetsnbextension~=3.6.0->ipywidgets->bnlearn==0.8.2) (6.1.0)\n",
            "Requirement already satisfied: defusedxml in /usr/local/lib/python3.10/dist-packages (from nbconvert>=5->notebook>=4.4.1->widgetsnbextension~=3.6.0->ipywidgets->bnlearn==0.8.2) (0.7.1)\n",
            "Requirement already satisfied: entrypoints>=0.2.2 in /usr/local/lib/python3.10/dist-packages (from nbconvert>=5->notebook>=4.4.1->widgetsnbextension~=3.6.0->ipywidgets->bnlearn==0.8.2) (0.4)\n",
            "Requirement already satisfied: jupyterlab-pygments in /usr/local/lib/python3.10/dist-packages (from nbconvert>=5->notebook>=4.4.1->widgetsnbextension~=3.6.0->ipywidgets->bnlearn==0.8.2) (0.3.0)\n",
            "Requirement already satisfied: mistune<2,>=0.8.1 in /usr/local/lib/python3.10/dist-packages (from nbconvert>=5->notebook>=4.4.1->widgetsnbextension~=3.6.0->ipywidgets->bnlearn==0.8.2) (0.8.4)\n",
            "Requirement already satisfied: nbclient>=0.5.0 in /usr/local/lib/python3.10/dist-packages (from nbconvert>=5->notebook>=4.4.1->widgetsnbextension~=3.6.0->ipywidgets->bnlearn==0.8.2) (0.9.0)\n",
            "Requirement already satisfied: pandocfilters>=1.4.1 in /usr/local/lib/python3.10/dist-packages (from nbconvert>=5->notebook>=4.4.1->widgetsnbextension~=3.6.0->ipywidgets->bnlearn==0.8.2) (1.5.1)\n",
            "Requirement already satisfied: tinycss2 in /usr/local/lib/python3.10/dist-packages (from nbconvert>=5->notebook>=4.4.1->widgetsnbextension~=3.6.0->ipywidgets->bnlearn==0.8.2) (1.2.1)\n",
            "Requirement already satisfied: fastjsonschema in /usr/local/lib/python3.10/dist-packages (from nbformat->notebook>=4.4.1->widgetsnbextension~=3.6.0->ipywidgets->bnlearn==0.8.2) (2.19.1)\n",
            "Requirement already satisfied: jsonschema>=2.6 in /usr/local/lib/python3.10/dist-packages (from nbformat->notebook>=4.4.1->widgetsnbextension~=3.6.0->ipywidgets->bnlearn==0.8.2) (4.19.2)\n",
            "Requirement already satisfied: argon2-cffi-bindings in /usr/local/lib/python3.10/dist-packages (from argon2-cffi->notebook>=4.4.1->widgetsnbextension~=3.6.0->ipywidgets->bnlearn==0.8.2) (21.2.0)\n",
            "Requirement already satisfied: attrs>=22.2.0 in /usr/local/lib/python3.10/dist-packages (from jsonschema>=2.6->nbformat->notebook>=4.4.1->widgetsnbextension~=3.6.0->ipywidgets->bnlearn==0.8.2) (23.2.0)\n",
            "Requirement already satisfied: jsonschema-specifications>=2023.03.6 in /usr/local/lib/python3.10/dist-packages (from jsonschema>=2.6->nbformat->notebook>=4.4.1->widgetsnbextension~=3.6.0->ipywidgets->bnlearn==0.8.2) (2023.12.1)\n",
            "Requirement already satisfied: referencing>=0.28.4 in /usr/local/lib/python3.10/dist-packages (from jsonschema>=2.6->nbformat->notebook>=4.4.1->widgetsnbextension~=3.6.0->ipywidgets->bnlearn==0.8.2) (0.33.0)\n",
            "Requirement already satisfied: rpds-py>=0.7.1 in /usr/local/lib/python3.10/dist-packages (from jsonschema>=2.6->nbformat->notebook>=4.4.1->widgetsnbextension~=3.6.0->ipywidgets->bnlearn==0.8.2) (0.17.1)\n",
            "Requirement already satisfied: anyio<4,>=3.1.0 in /usr/local/lib/python3.10/dist-packages (from jupyter-server>=1.8->nbclassic>=0.4.7->notebook>=4.4.1->widgetsnbextension~=3.6.0->ipywidgets->bnlearn==0.8.2) (3.7.1)\n",
            "Requirement already satisfied: websocket-client in /usr/local/lib/python3.10/dist-packages (from jupyter-server>=1.8->nbclassic>=0.4.7->notebook>=4.4.1->widgetsnbextension~=3.6.0->ipywidgets->bnlearn==0.8.2) (1.7.0)\n",
            "Requirement already satisfied: cffi>=1.0.1 in /usr/local/lib/python3.10/dist-packages (from argon2-cffi-bindings->argon2-cffi->notebook>=4.4.1->widgetsnbextension~=3.6.0->ipywidgets->bnlearn==0.8.2) (1.16.0)\n",
            "Requirement already satisfied: soupsieve>1.2 in /usr/local/lib/python3.10/dist-packages (from beautifulsoup4->nbconvert>=5->notebook>=4.4.1->widgetsnbextension~=3.6.0->ipywidgets->bnlearn==0.8.2) (2.5)\n",
            "Requirement already satisfied: webencodings in /usr/local/lib/python3.10/dist-packages (from bleach->nbconvert>=5->notebook>=4.4.1->widgetsnbextension~=3.6.0->ipywidgets->bnlearn==0.8.2) (0.5.1)\n",
            "Requirement already satisfied: sniffio>=1.1 in /usr/local/lib/python3.10/dist-packages (from anyio<4,>=3.1.0->jupyter-server>=1.8->nbclassic>=0.4.7->notebook>=4.4.1->widgetsnbextension~=3.6.0->ipywidgets->bnlearn==0.8.2) (1.3.0)\n",
            "Requirement already satisfied: exceptiongroup in /usr/local/lib/python3.10/dist-packages (from anyio<4,>=3.1.0->jupyter-server>=1.8->nbclassic>=0.4.7->notebook>=4.4.1->widgetsnbextension~=3.6.0->ipywidgets->bnlearn==0.8.2) (1.2.0)\n",
            "Requirement already satisfied: pycparser in /usr/local/lib/python3.10/dist-packages (from cffi>=1.0.1->argon2-cffi-bindings->argon2-cffi->notebook>=4.4.1->widgetsnbextension~=3.6.0->ipywidgets->bnlearn==0.8.2) (2.21)\n",
            "Installing collected packages: bnlearn\n",
            "  Attempting uninstall: bnlearn\n",
            "    Found existing installation: bnlearn 0.8.4\n",
            "    Uninstalling bnlearn-0.8.4:\n",
            "      Successfully uninstalled bnlearn-0.8.4\n",
            "Successfully installed bnlearn-0.8.2\n"
          ]
        }
      ],
      "source": [
        "!pip install bnlearn==0.8.2"
      ]
    },
    {
      "cell_type": "code",
      "execution_count": null,
      "metadata": {
        "id": "HifxDXGIhmK8"
      },
      "outputs": [],
      "source": [
        "import bnlearn"
      ]
    },
    {
      "cell_type": "code",
      "execution_count": null,
      "metadata": {
        "id": "WeAYMmvIPJFt"
      },
      "outputs": [],
      "source": [
        "#files.upload() # Sélectionnez les données \"data_printer.csv\""
      ]
    },
    {
      "cell_type": "code",
      "execution_count": null,
      "metadata": {
        "colab": {
          "base_uri": "https://localhost:8080/"
        },
        "id": "v3oJkXvJhmK9",
        "outputId": "18a9b165-4ef0-4b1e-ae7f-afc8f87edf92"
      },
      "outputs": [
        {
          "output_type": "stream",
          "name": "stdout",
          "text": [
            "   Unnamed: 0  encre  question_ink  papier  question_paper  pilote  \\\n",
            "0           0      0             1       1               1       1   \n",
            "1           1      0             1       1               1       1   \n",
            "2           2      0             0       1               1       1   \n",
            "3           3      1             1       0               0       1   \n",
            "4           4      1             1       0               1       1   \n",
            "\n",
            "   question_screen  action_addink  action_addpaper  action_reboot  \n",
            "0                1              0                1              1  \n",
            "1                1              0                1              1  \n",
            "2                0              0                1              1  \n",
            "3                1              1                0              1  \n",
            "4                1              1                0              1  \n"
          ]
        }
      ],
      "source": [
        "import pandas as pd\n",
        "data_printer = pd.read_csv('TP5_data_printer.csv', sep=';')\n",
        "print(data_printer.head())"
      ]
    },
    {
      "cell_type": "markdown",
      "metadata": {
        "id": "Uc-FWhsyCeyR"
      },
      "source": [
        "Nous allons étudier un modèle simple d'imprimante. On suppose que cette imprimante présente 3 pannes distinctes:\n",
        "- problème d'encre\n",
        "- problème de papier\n",
        "- problème de pilote\n",
        "Vous pouvez poser 3 questions :\n",
        "- y-a-til de l'encre ?\n",
        "- y-a-til du papier ?\n",
        "- l'écran affiche-t-il un code d'erreur ?\n",
        "Vous pouvez faire 3 actions :\n",
        "- remplir l'encre\n",
        "- remplir le papier\n",
        "- redémarrer\n",
        "\n",
        "Nous utiliserons le package bnlearn : https://erdogant.github.io/bnlearn/pages/html/index.html\n",
        "\n",
        "3.1 Proposez une structure de réseau bayésien, puis affichez la."
      ]
    },
    {
      "cell_type": "code",
      "execution_count": null,
      "metadata": {
        "colab": {
          "base_uri": "https://localhost:8080/"
        },
        "id": "qlxnQcwQDP72",
        "outputId": "8ed0ab3d-3a0d-47c5-ac69-4c87dd395e6d"
      },
      "outputs": [
        {
          "output_type": "stream",
          "name": "stdout",
          "text": [
            "[bnlearn] >bayes DAG created.\n"
          ]
        }
      ],
      "source": [
        "import bnlearn\n",
        "# Réponse:\n",
        "edges = [('encre', 'papier'),\n",
        "         ('papier', 'pilote'),\n",
        "         ('encre', 'pilote'),\n",
        "         ('papier', 'question_paper'),\n",
        "         ('encre', 'question_ink'),\n",
        "         ('papier', 'question_screen'),\n",
        "         ('pilote', 'question_screen'),\n",
        "         ('encre', 'question_screen'),\n",
        "         ('pilote', 'action_addpaper'),\n",
        "         ('pilote', 'action_addink'),\n",
        "         ('pilote', 'action_reboot'),\n",
        "         ('encre', 'action_addpaper'),\n",
        "         ('encre', 'action_addink'),\n",
        "         ('encre', 'action_reboot'),\n",
        "         ('papier', 'action_addpaper'),\n",
        "         ('papier', 'action_addink'),\n",
        "         ('papier', 'action_reboot'),\n",
        "         ]\n",
        "DAG = bnlearn.make_DAG(edges)"
      ]
    },
    {
      "cell_type": "code",
      "execution_count": null,
      "metadata": {
        "colab": {
          "base_uri": "https://localhost:8080/",
          "height": 772
        },
        "id": "kORsgnVkM9ze",
        "outputId": "0e0785df-0f34-4df6-8b9b-9efa3422ce0e"
      },
      "outputs": [
        {
          "output_type": "stream",
          "name": "stdout",
          "text": [
            "[bnlearn] >bayes DAG created.\n",
            "[bnlearn] >Set node properties.\n",
            "[bnlearn] >Set edge properties.\n",
            "[bnlearn] >Plot based on Bayesian model\n"
          ]
        },
        {
          "output_type": "display_data",
          "data": {
            "text/plain": [
              "<Figure size 1500x1000 with 1 Axes>"
            ],
            "image/png": "[encoded data removed]"
          },
          "metadata": {}
        }
      ],
      "source": [
        "#Réponse:\n",
        "DAG = bnlearn.make_DAG(edges)\n",
        "node_properties = bnlearn.get_node_properties(DAG);\n",
        "bnlearn.plot(DAG, interactive=False, node_properties=node_properties, verbose=4);"
      ]
    },
    {
      "cell_type": "markdown",
      "metadata": {
        "id": "omc3ns46QvMD"
      },
      "source": [
        "Téléchargeons les données de l'imprimante et des maintenances associées.\n",
        "Pour note:\n",
        "*   encre, papier, pilote = 0 --> panne\n",
        "*   action_ = 0 --> succès de l'action\n",
        "*   question_ink = 0 --> pas d'encre\n",
        "*   question_paper = 0 --> pas de papier\n",
        "*   question_screen = 0 --> problème écran"
      ]
    },
    {
      "cell_type": "markdown",
      "metadata": {
        "id": "hWK8akGcPWdr"
      },
      "source": [
        "3.2 Apprenez les paramètres du réseau bayésien."
      ]
    },
    {
      "cell_type": "code",
      "execution_count": null,
      "metadata": {
        "colab": {
          "base_uri": "https://localhost:8080/"
        },
        "id": "PrjssLiSA5g3",
        "outputId": "65cb6436-3a78-4915-93b2-3694b5e93609",
        "scrolled": false
      },
      "outputs": [
        {
          "output_type": "stream",
          "name": "stdout",
          "text": [
            "[bnlearn] >Removing columns from dataframe to make consistent with DAG [['Unnamed: 0']]\n",
            "[bnlearn] >Parameter learning> Computing parameters using [bayes]\n",
            "[bnlearn] >CPD of encre:\n",
            "+----------+----------+\n",
            "| encre(0) | 0.493636 |\n",
            "+----------+----------+\n",
            "| encre(1) | 0.506364 |\n",
            "+----------+----------+\n",
            "[bnlearn] >CPD of papier:\n",
            "+-----------+---------------------+--------------------+\n",
            "| encre     | encre(0)            | encre(1)           |\n",
            "+-----------+---------------------+--------------------+\n",
            "| papier(0) | 0.04604051565377532 | 0.6694793536804309 |\n",
            "+-----------+---------------------+--------------------+\n",
            "| papier(1) | 0.9539594843462247  | 0.3305206463195691 |\n",
            "+-----------+---------------------+--------------------+\n",
            "[bnlearn] >CPD of pilote:\n",
            "+-----------+-----------+---------------------+---------------------+---------------------+\n",
            "| encre     | encre(0)  | encre(0)            | encre(1)            | encre(1)            |\n",
            "+-----------+-----------+---------------------+---------------------+---------------------+\n",
            "| papier    | papier(0) | papier(1)           | papier(0)           | papier(1)           |\n",
            "+-----------+-----------+---------------------+---------------------+---------------------+\n",
            "| pilote(0) | 0.5       | 0.02413127413127413 | 0.03352105122016626 | 0.9321021184139054  |\n",
            "+-----------+-----------+---------------------+---------------------+---------------------+\n",
            "| pilote(1) | 0.5       | 0.9758687258687259  | 0.9664789487798338  | 0.06789788158609451 |\n",
            "+-----------+-----------+---------------------+---------------------+---------------------+\n",
            "[bnlearn] >CPD of question_paper:\n",
            "+-------------------+--------------------+---------------------+\n",
            "| papier            | papier(0)          | papier(1)           |\n",
            "+-------------------+--------------------+---------------------+\n",
            "| question_paper(0) | 0.6659964815280222 | 0.03560746332431278 |\n",
            "+-------------------+--------------------+---------------------+\n",
            "| question_paper(1) | 0.3340035184719779 | 0.9643925366756873  |\n",
            "+-------------------+--------------------+---------------------+\n",
            "[bnlearn] >CPD of question_ink:\n",
            "+-----------------+--------------------+---------------------+\n",
            "| encre           | encre(0)           | encre(1)            |\n",
            "+-----------------+--------------------+---------------------+\n",
            "| question_ink(0) | 0.6904235727440148 | 0.04488330341113106 |\n",
            "+-----------------+--------------------+---------------------+\n",
            "| question_ink(1) | 0.3095764272559853 | 0.9551166965888689  |\n",
            "+-----------------+--------------------+---------------------+\n",
            "[bnlearn] >CPD of question_screen:\n",
            "+--------------------+-----------+-----------+-----+-------------------+-----------+\n",
            "| encre              | encre(0)  | encre(0)  | ... | encre(1)          | encre(1)  |\n",
            "+--------------------+-----------+-----------+-----+-------------------+-----------+\n",
            "| papier             | papier(0) | papier(0) | ... | papier(1)         | papier(1) |\n",
            "+--------------------+-----------+-----------+-----+-------------------+-----------+\n",
            "| pilote             | pilote(0) | pilote(1) | ... | pilote(0)         | pilote(1) |\n",
            "+--------------------+-----------+-----------+-----+-------------------+-----------+\n",
            "| question_screen(0) | 0.5       | 0.5       | ... | 0.666958041958042 | 0.5       |\n",
            "+--------------------+-----------+-----------+-----+-------------------+-----------+\n",
            "| question_screen(1) | 0.5       | 0.5       | ... | 0.333041958041958 | 0.5       |\n",
            "+--------------------+-----------+-----------+-----+-------------------+-----------+\n",
            "[bnlearn] >CPD of action_addpaper:\n",
            "+--------------------+-----------+-----------+-----+----------------------+-----------+\n",
            "| encre              | encre(0)  | encre(0)  | ... | encre(1)             | encre(1)  |\n",
            "+--------------------+-----------+-----------+-----+----------------------+-----------+\n",
            "| papier             | papier(0) | papier(0) | ... | papier(1)            | papier(1) |\n",
            "+--------------------+-----------+-----------+-----+----------------------+-----------+\n",
            "| pilote             | pilote(0) | pilote(1) | ... | pilote(0)            | pilote(1) |\n",
            "+--------------------+-----------+-----------+-----+----------------------+-----------+\n",
            "| action_addpaper(0) | 0.5       | 0.5       | ... | 0.036421911421911424 | 0.5       |\n",
            "+--------------------+-----------+-----------+-----+----------------------+-----------+\n",
            "| action_addpaper(1) | 0.5       | 0.5       | ... | 0.9635780885780886   | 0.5       |\n",
            "+--------------------+-----------+-----------+-----+----------------------+-----------+\n",
            "[bnlearn] >CPD of action_addink:\n",
            "+------------------+-----------+-----------+-----+----------------------+-----------+\n",
            "| encre            | encre(0)  | encre(0)  | ... | encre(1)             | encre(1)  |\n",
            "+------------------+-----------+-----------+-----+----------------------+-----------+\n",
            "| papier           | papier(0) | papier(0) | ... | papier(1)            | papier(1) |\n",
            "+------------------+-----------+-----------+-----+----------------------+-----------+\n",
            "| pilote           | pilote(0) | pilote(1) | ... | pilote(0)            | pilote(1) |\n",
            "+------------------+-----------+-----------+-----+----------------------+-----------+\n",
            "| action_addink(0) | 0.5       | 0.5       | ... | 0.036421911421911424 | 0.5       |\n",
            "+------------------+-----------+-----------+-----+----------------------+-----------+\n",
            "| action_addink(1) | 0.5       | 0.5       | ... | 0.9635780885780886   | 0.5       |\n",
            "+------------------+-----------+-----------+-----+----------------------+-----------+\n",
            "[bnlearn] >CPD of action_reboot:\n",
            "+------------------+-----------+-----------+-----+----------------------+-----------+\n",
            "| encre            | encre(0)  | encre(0)  | ... | encre(1)             | encre(1)  |\n",
            "+------------------+-----------+-----------+-----+----------------------+-----------+\n",
            "| papier           | papier(0) | papier(0) | ... | papier(1)            | papier(1) |\n",
            "+------------------+-----------+-----------+-----+----------------------+-----------+\n",
            "| pilote           | pilote(0) | pilote(1) | ... | pilote(0)            | pilote(1) |\n",
            "+------------------+-----------+-----------+-----+----------------------+-----------+\n",
            "| action_reboot(0) | 0.5       | 0.5       | ... | 0.9635780885780886   | 0.5       |\n",
            "+------------------+-----------+-----------+-----+----------------------+-----------+\n",
            "| action_reboot(1) | 0.5       | 0.5       | ... | 0.036421911421911424 | 0.5       |\n",
            "+------------------+-----------+-----------+-----+----------------------+-----------+\n",
            "[bnlearn] >Compute structure scores for model comparison (higher is better).\n"
          ]
        }
      ],
      "source": [
        "# Réponse:\n",
        "import pandas as pd\n",
        "dfa = pd.read_csv('TP5_data_printer.csv', sep=';')\n",
        "#DAG = bnlearn.parameter_learning.fit(DAG, dfa, methodtype='ml') #'ml' / 'bayes'\n",
        "DAG = bnlearn.parameter_learning.fit(DAG, dfa, methodtype='bayes')"
      ]
    },
    {
      "cell_type": "markdown",
      "metadata": {
        "id": "pnGEfUSVERTX"
      },
      "source": [
        "3.3 Quelle est la probabilité d'avoir un problème d'encre ? de papier ? de pilote ?"
      ]
    },
    {
      "cell_type": "code",
      "execution_count": null,
      "metadata": {
        "id": "X76Mu2fOPiGl"
      },
      "outputs": [],
      "source": [
        "# Réponse:\n",
        "# encre: p(encre=0) = 0.5\n",
        "# papier: p(papier=0) = p(papier=0|encre=0)p(encre=0) + p(papier=0|encre=1)p(encre=1) ~ 0.0 + 0.7*0.5 = 0.35\n",
        "# pilot: p(pilote=0) = 0.15\n",
        "# ou en bayésien\n",
        "# encre: p(encre=0) = 0.49\n",
        "# papier: p(papier=0) = p(papier=0|encre=0)p(encre=0) + p(papier=0|encre=1)p(encre=1) ~ 0.05*0.5 + 0.7*0.5 ~ 0.37\n",
        "# pilot: p(pilote=0) = 0.17\n"
      ]
    },
    {
      "cell_type": "markdown",
      "metadata": {
        "id": "mAOytnFAERaf"
      },
      "source": [
        "3.4 Sachant qu'il y a du papier, quelle est la probabilité d'avoir un problème d'encre ?"
      ]
    },
    {
      "cell_type": "code",
      "execution_count": null,
      "metadata": {
        "colab": {
          "base_uri": "https://localhost:8080/"
        },
        "id": "WYYO9DRsPio8",
        "outputId": "1b197ad7-1b6f-417f-8208-82833f1755dd"
      },
      "outputs": [
        {
          "output_type": "stream",
          "name": "stdout",
          "text": [
            "[bnlearn] >Variable Elimination.\n",
            "[bnlearn] >Warning: variable(s) [None] does not exists in DAG.\n",
            "[bnlearn] >Data is stored in [query.df]\n",
            "+----+---------+----------+\n",
            "|    |   encre |        p |\n",
            "+====+=========+==========+\n",
            "|  0 |       0 | 0.627044 |\n",
            "+----+---------+----------+\n",
            "|  1 |       1 | 0.372956 |\n",
            "+----+---------+----------+\n"
          ]
        }
      ],
      "source": [
        "# Réponse:\n",
        "q1 = bnlearn.inference.fit(DAG, variables=['encre'], evidence={'question_paper': 1})\n",
        "# encre(0)"
      ]
    },
    {
      "cell_type": "markdown",
      "metadata": {
        "id": "oKpjlQHtYuQB"
      },
      "source": [
        "3.5 Sachant qu'il y a un message sur l'écran, quelle est la probabilité d'avoir un problème de pilote ?"
      ]
    },
    {
      "cell_type": "code",
      "execution_count": null,
      "metadata": {
        "colab": {
          "base_uri": "https://localhost:8080/"
        },
        "id": "etBq9iHaY0jt",
        "outputId": "38ccd90a-cc9a-4396-b2c3-1337b02ff0d3"
      },
      "outputs": [
        {
          "output_type": "stream",
          "name": "stdout",
          "text": [
            "[bnlearn] >Variable Elimination.\n",
            "[bnlearn] >Warning: variable(s) [None] does not exists in DAG.\n",
            "[bnlearn] >Data is stored in [query.df]\n",
            "+----+----------+----------+\n",
            "|    |   pilote |        p |\n",
            "+====+==========+==========+\n",
            "|  0 |        0 | 0.323694 |\n",
            "+----+----------+----------+\n",
            "|  1 |        1 | 0.676306 |\n",
            "+----+----------+----------+\n"
          ]
        }
      ],
      "source": [
        "# Réponse:\n",
        "q1 = bnlearn.inference.fit(DAG, variables=['pilote'], evidence={'question_screen':0})\n",
        "# pilote(0)"
      ]
    },
    {
      "cell_type": "markdown",
      "metadata": {
        "id": "HakxbA35ERgo"
      },
      "source": [
        "3.6 Quelle est la probabilité de succès par un reboot de la machine, sachant qu'il y a du papier ?"
      ]
    },
    {
      "cell_type": "code",
      "execution_count": null,
      "metadata": {
        "colab": {
          "base_uri": "https://localhost:8080/"
        },
        "id": "0XIfHVpdEPwQ",
        "outputId": "487b002a-09e7-451e-c402-ae0eaf8e799a"
      },
      "outputs": [
        {
          "output_type": "stream",
          "name": "stdout",
          "text": [
            "[bnlearn] >Variable Elimination.\n",
            "[bnlearn] >Warning: variable(s) [None] does not exists in DAG.\n",
            "[bnlearn] >Data is stored in [query.df]\n",
            "+----+-----------------+----------+\n",
            "|    |   action_reboot |        p |\n",
            "+====+=================+==========+\n",
            "|  0 |               0 | 0.244592 |\n",
            "+----+-----------------+----------+\n",
            "|  1 |               1 | 0.755408 |\n",
            "+----+-----------------+----------+\n"
          ]
        }
      ],
      "source": [
        "# réponse\n",
        "q1 = bnlearn.inference.fit(DAG, variables=['action_reboot'], evidence={'question_paper':1})\n",
        "# action_reboot(0)"
      ]
    },
    {
      "cell_type": "markdown",
      "metadata": {
        "id": "apq2c6qrcdXQ"
      },
      "source": [
        "3.7 Quelle action entreprendre sachant qu'il y a du papier et que l'écran montre une erreur ?"
      ]
    },
    {
      "cell_type": "code",
      "execution_count": null,
      "metadata": {
        "colab": {
          "base_uri": "https://localhost:8080/"
        },
        "id": "4d7WMNOAbQq7",
        "outputId": "03a5031d-61bb-4d9e-e894-16394cbe7dbc"
      },
      "outputs": [
        {
          "output_type": "stream",
          "name": "stdout",
          "text": [
            "[bnlearn] >Variable Elimination.\n",
            "[bnlearn] >Warning: variable(s) [None] does not exists in DAG.\n",
            "[bnlearn] >Data is stored in [query.df]\n",
            "+----+-----------------+----------+\n",
            "|    |   action_reboot |        p |\n",
            "+====+=================+==========+\n",
            "|  0 |               0 | 0.389052 |\n",
            "+----+-----------------+----------+\n",
            "|  1 |               1 | 0.610948 |\n",
            "+----+-----------------+----------+\n",
            "[bnlearn] >Variable Elimination.\n",
            "[bnlearn] >Warning: variable(s) [None] does not exists in DAG.\n",
            "[bnlearn] >Data is stored in [query.df]\n",
            "+----+-------------------+----------+\n",
            "|    |   action_addpaper |        p |\n",
            "+====+===================+==========+\n",
            "|  0 |                 0 | 0.167273 |\n",
            "+----+-------------------+----------+\n",
            "|  1 |                 1 | 0.832727 |\n",
            "+----+-------------------+----------+\n",
            "[bnlearn] >Variable Elimination.\n",
            "[bnlearn] >Warning: variable(s) [None] does not exists in DAG.\n",
            "[bnlearn] >Data is stored in [query.df]\n",
            "+----+-----------------+----------+\n",
            "|    |   action_addink |        p |\n",
            "+====+=================+==========+\n",
            "|  0 |               0 | 0.505983 |\n",
            "+----+-----------------+----------+\n",
            "|  1 |               1 | 0.494017 |\n",
            "+----+-----------------+----------+\n"
          ]
        }
      ],
      "source": [
        "# Réponse\n",
        "qreboot = bnlearn.inference.fit(DAG, variables=['action_reboot'], evidence={'question_paper':1, 'question_screen':0})\n",
        "qaddpaper = bnlearn.inference.fit(DAG, variables=['action_addpaper'], evidence={'question_paper':1, 'question_screen':0})\n",
        "qaddink = bnlearn.inference.fit(DAG, variables=['action_addink'], evidence={'question_paper':1, 'question_screen':0})\n",
        "# max(q) (addink)"
      ]
    },
    {
      "cell_type": "code",
      "execution_count": null,
      "metadata": {
        "id": "6RIvFyqphmK_"
      },
      "outputs": [],
      "source": []
    },
    {
      "cell_type": "code",
      "execution_count": null,
      "metadata": {
        "id": "EAMpJZuZhmK_"
      },
      "outputs": [],
      "source": []
    },
    {
      "cell_type": "code",
      "execution_count": null,
      "metadata": {
        "id": "Fl2Hn3O6hmK_"
      },
      "outputs": [],
      "source": []
    }
  ],
  "metadata": {
    "colab": {
      "provenance": []
    },
    "kernelspec": {
      "display_name": "Python 3",
      "language": "python",
      "name": "python3"
    },
    "language_info": {
      "codemirror_mode": {
        "name": "ipython",
        "version": 3
      },
      "file_extension": ".py",
      "mimetype": "text/x-python",
      "name": "python",
      "nbconvert_exporter": "python",
      "pygments_lexer": "ipython3",
      "version": "3.8.5"
    }
  },
  "nbformat": 4,
  "nbformat_minor": 0
}